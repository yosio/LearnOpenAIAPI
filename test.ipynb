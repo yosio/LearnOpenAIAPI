{
 "cells": [
  {
   "cell_type": "code",
   "execution_count": 28,
   "metadata": {},
   "outputs": [],
   "source": [
    "import os\n",
    "# 環境変数からAPIキー取得\n",
    "open_ai_key = os.environ[\"OPENAI_API_KEY\"]"
   ]
  },
  {
   "cell_type": "code",
   "execution_count": 29,
   "metadata": {},
   "outputs": [],
   "source": [
    "# ChatGPTから呼ばれる関数を用意\n",
    "def moveRight(angle):\n",
    "    print(f\"move right! {angle}\")\n",
    "\n",
    "def moveLeft(angle):\n",
    "    print(f\"move left! {angle}\")\n"
   ]
  },
  {
   "cell_type": "code",
   "execution_count": 30,
   "metadata": {},
   "outputs": [],
   "source": [
    "import openai\n",
    "import json\n",
    "\n",
    "# OpenAI APIキーの準備\n",
    "openai.api_key = open_ai_key\n",
    "\n",
    "def callAPI(prompt):\n",
    "    # API呼び出し\n",
    "    response = openai.ChatCompletion.create(\n",
    "        model=\"gpt-3.5-turbo-0613\",\n",
    "        messages=[{\"role\": \"system\", \"content\": \"あなたはロボットです\"},\n",
    "                {\"role\": \"user\", \"content\": prompt}],\n",
    "        functions=[\n",
    "            {\n",
    "                \"name\": \"moveRight\",\n",
    "                \"description\": \"右に回転する\",\n",
    "                \"parameters\": {\n",
    "                    \"type\": \"object\",\n",
    "                    \"properties\": {\n",
    "                        \"angle\": {\n",
    "                            \"type\": \"integer\",\n",
    "                            \"description\": \"回転角度\",\n",
    "                        },\n",
    "                    },\n",
    "                    \"required\": [\"angle\"],\n",
    "                },\n",
    "            },\n",
    "            {\n",
    "                \"name\": \"moveLeft\",\n",
    "                \"description\": \"左に回転する\",\n",
    "                \"parameters\": {\n",
    "                    \"type\": \"object\",\n",
    "                    \"properties\": {\n",
    "                        \"angle\": {\n",
    "                            \"type\": \"integer\",\n",
    "                            \"description\": \"回転角度\",\n",
    "                        },\n",
    "                    },\n",
    "                    \"required\": [\"angle\"],\n",
    "                },\n",
    "            }\n",
    "        ],\n",
    "        function_call=\"auto\",\n",
    "    )\n",
    "    print(response)\n",
    "    message = response[\"choices\"][0][\"message\"]\n",
    "\n",
    "    # 関数呼び出ししたいか確認して実行\n",
    "    if message.get(\"function_call\"):\n",
    "        funcName = message[\"function_call\"][\"name\"]\n",
    "        if funcName == \"moveRight\":\n",
    "            angle = json.loads(message[\"function_call\"][\"arguments\"])[\"angle\"]\n",
    "            moveRight(angle)\n",
    "        if funcName == \"moveLeft\":\n",
    "            angle = json.loads(message[\"function_call\"][\"arguments\"])[\"angle\"]\n",
    "            moveLeft(angle)\n"
   ]
  },
  {
   "cell_type": "code",
   "execution_count": 31,
   "metadata": {},
   "outputs": [
    {
     "name": "stdout",
     "output_type": "stream",
     "text": [
      "{\n",
      "  \"id\": \"chatcmpl-7ijoLeFzyMZxToAxOg1VoKjlRIWC5\",\n",
      "  \"object\": \"chat.completion\",\n",
      "  \"created\": 1690896885,\n",
      "  \"model\": \"gpt-3.5-turbo-0613\",\n",
      "  \"choices\": [\n",
      "    {\n",
      "      \"index\": 0,\n",
      "      \"message\": {\n",
      "        \"role\": \"assistant\",\n",
      "        \"content\": null,\n",
      "        \"function_call\": {\n",
      "          \"name\": \"moveRight\",\n",
      "          \"arguments\": \"{\\n  \\\"angle\\\": 30\\n}\"\n",
      "        }\n",
      "      },\n",
      "      \"finish_reason\": \"function_call\"\n",
      "    }\n",
      "  ],\n",
      "  \"usage\": {\n",
      "    \"prompt_tokens\": 107,\n",
      "    \"completion_tokens\": 15,\n",
      "    \"total_tokens\": 122\n",
      "  }\n",
      "}\n",
      "move right! 30\n"
     ]
    }
   ],
   "source": [
    "callAPI(\"少し右向いて\")"
   ]
  },
  {
   "cell_type": "code",
   "execution_count": 32,
   "metadata": {},
   "outputs": [
    {
     "name": "stdout",
     "output_type": "stream",
     "text": [
      "{\n",
      "  \"id\": \"chatcmpl-7ijoNFtidgSFPiIeExjoiJUQVopqn\",\n",
      "  \"object\": \"chat.completion\",\n",
      "  \"created\": 1690896887,\n",
      "  \"model\": \"gpt-3.5-turbo-0613\",\n",
      "  \"choices\": [\n",
      "    {\n",
      "      \"index\": 0,\n",
      "      \"message\": {\n",
      "        \"role\": \"assistant\",\n",
      "        \"content\": null,\n",
      "        \"function_call\": {\n",
      "          \"name\": \"moveLeft\",\n",
      "          \"arguments\": \"{\\n  \\\"angle\\\": 90\\n}\"\n",
      "        }\n",
      "      },\n",
      "      \"finish_reason\": \"function_call\"\n",
      "    }\n",
      "  ],\n",
      "  \"usage\": {\n",
      "    \"prompt_tokens\": 110,\n",
      "    \"completion_tokens\": 15,\n",
      "    \"total_tokens\": 125\n",
      "  }\n",
      "}\n",
      "move left! 90\n"
     ]
    }
   ],
   "source": [
    "callAPI(\"結構左向いて\")"
   ]
  }
 ],
 "metadata": {
  "kernelspec": {
   "display_name": "Python 3",
   "language": "python",
   "name": "python3"
  },
  "language_info": {
   "codemirror_mode": {
    "name": "ipython",
    "version": 3
   },
   "file_extension": ".py",
   "mimetype": "text/x-python",
   "name": "python",
   "nbconvert_exporter": "python",
   "pygments_lexer": "ipython3",
   "version": "3.11.4"
  },
  "orig_nbformat": 4
 },
 "nbformat": 4,
 "nbformat_minor": 2
}
